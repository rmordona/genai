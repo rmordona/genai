{
 "cells": [
  {
   "cell_type": "code",
   "execution_count": null,
   "id": "8debb915-6391-4311-8adc-2c60f69b40d4",
   "metadata": {},
   "outputs": [],
   "source": [
    "from graphviz import Digraph\n",
    "from IPython.display import display, SVG\n",
    "\n",
    "def display_graph():\n",
    "    graph = Digraph('G', filename='graph.gv', format='svg', engine='dot')\n",
    "    graph.node('A', 'Node A')\n",
    "    graph.node('B', 'Node Bx')\n",
    "    graph.edge('A', 'B')\n",
    "    return graph\n",
    "\n",
    "# Create the graph\n",
    "graph = display_graph()\n",
    "\n",
    "# Render the graph and display it in the notebook\n",
    "display(SVG(graph.pipe().decode()))"
   ]
  },
  {
   "cell_type": "code",
   "execution_count": null,
   "id": "f837594c-6d11-4b9c-9f54-99592ac262a4",
   "metadata": {},
   "outputs": [],
   "source": [
    "from graphviz import Source\n",
    "dot_graph = \"\"\"\n",
    "digraph G {\n",
    "    node [shape=circle];\n",
    "    // rankdir=LR; // Set the layout direction to left-to-right\n",
    "\n",
    "    A -> B;\n",
    "    B -> C;\n",
    "    C -> A;\n",
    "    \n",
    "    // Record-type nodes with associated attributes \n",
    "    A_label [shape=record, label=\"{Row 1, Col 1|1|Row 2, Col 1|Row 3, Col 1}|{Row 1, Col 2|Row 2, Col 2|Row 3, Col2}\"];\n",
    "    B_label [shape=record, label=\"{Operations|Attribute 1: value3|Attribute 2: value4}\"];\n",
    "    C_label [shape=record, label=\"{Operations|Attribute 1: value5|Attribute 2: value6}\"];\n",
    " \n",
    "    \n",
    "    // Connections between nodes and corresponding record-type nodes\n",
    "    Node_A -> A_label;\n",
    "    Node_B -> B_label;\n",
    "    Node_C -> C_label;\n",
    "}\n",
    "\"\"\"\n",
    "\n",
    "# Create a Source object from the DOT format graph\n",
    "source = Source(dot_graph, format='svg')\n",
    "\n",
    "# Display the graph in the notebook\n",
    "display(source)"
   ]
  },
  {
   "cell_type": "code",
   "execution_count": null,
   "id": "41100489-6d0d-4a8f-a7c7-d426b08e64b6",
   "metadata": {},
   "outputs": [],
   "source": [
    "import genai as ai\n",
    "\n",
    "scraper = ai.Scraper();"
   ]
  },
  {
   "cell_type": "code",
   "execution_count": null,
   "id": "5114c5c4-34f7-46fc-8b96-6e630d6bc168",
   "metadata": {},
   "outputs": [],
   "source": [
    "scraper.crawl('http://localhost:8888/notebooks/sample.html', 1);"
   ]
  },
  {
   "cell_type": "code",
   "execution_count": 1,
   "id": "324a329b-bd66-4284-a529-08ab79088987",
   "metadata": {},
   "outputs": [
    {
     "ename": "ImportError",
     "evalue": "dlopen(/usr/local/lib/python3.11/site-packages/genai.abi3.so, 0x0002): symbol not found in flat namespace '__ZN11URLFrontier10processUrlERKNSt7__cxx1112basic_stringIcSt11char_traitsIcESaIcEEE'",
     "output_type": "error",
     "traceback": [
      "\u001b[0;31m---------------------------------------------------------------------------\u001b[0m",
      "\u001b[0;31mImportError\u001b[0m                               Traceback (most recent call last)",
      "Cell \u001b[0;32mIn[1], line 1\u001b[0m\n\u001b[0;32m----> 1\u001b[0m \u001b[38;5;28;01mimport\u001b[39;00m \u001b[38;5;21;01mgenai\u001b[39;00m \u001b[38;5;28;01mas\u001b[39;00m \u001b[38;5;21;01mai\u001b[39;00m\n\u001b[1;32m      3\u001b[0m \u001b[38;5;66;03m# Define the URLFrontier class wrapper in Python\u001b[39;00m\n\u001b[1;32m      4\u001b[0m \u001b[38;5;28;01mclass\u001b[39;00m \u001b[38;5;21;01mURLFrontier\u001b[39;00m:\n",
      "\u001b[0;31mImportError\u001b[0m: dlopen(/usr/local/lib/python3.11/site-packages/genai.abi3.so, 0x0002): symbol not found in flat namespace '__ZN11URLFrontier10processUrlERKNSt7__cxx1112basic_stringIcSt11char_traitsIcESaIcEEE'"
     ]
    }
   ],
   "source": [
    "import genai as ai\n",
    "\n",
    "# Define the URLFrontier class wrapper in Python\n",
    "class URLFrontier:\n",
    "    def __init__(self, max_urls=1000, queue_address=''):\n",
    "        self._urlfrontier = ai.URLFrontier(max_urls, queue_address.encode('utf-8'))\n",
    "\n",
    "    def enqueue(self, url, priority_percentage):\n",
    "        url_bytes = url.encode('utf-8')\n",
    "        self._urlfrontier.enqueue(url_bytes, priority_percentage)\n",
    "\n",
    "    def start_worker_threads(self):\n",
    "        self._urlfrontier.startWorkerThreads()\n",
    "\n",
    "# Example usage:\n",
    "if __name__ == '__main__':\n",
    "    url_frontier = URLFrontier(max_urls=100, queue_address='tcp://127.0.0.1:5555')\n",
    "\n",
    "    # Enqueue URLs with priority percentages\n",
    "    url_frontier.enqueue('http://example.com/page1', 80)\n",
    "    url_frontier.enqueue('http://example.com/page2', 50)\n",
    "\n",
    "    # Start worker threads\n",
    "    url_frontier.start_worker_threads()"
   ]
  },
  {
   "cell_type": "code",
   "execution_count": null,
   "id": "9d282312-2d31-4bbe-a942-37796932d878",
   "metadata": {},
   "outputs": [],
   "source": [
    "class MyTokenModel(ai.BPETokenizer):\n",
    "\n",
    "   def __init__(self):\n",
    "     super().__init__();\n",
    "\n",
    "\n",
    "tokenizer = ai.BPETokenizer();\n",
    "\n"
   ]
  },
  {
   "cell_type": "code",
   "execution_count": null,
   "id": "b7a43837-6362-4c0e-9826-2f25b4b04095",
   "metadata": {},
   "outputs": [],
   "source": [
    "class MyModel(ai.BaseModel):\n",
    "\n",
    "   def __init__(self):\n",
    "     super().__init__();\n",
    "\n",
    "     print(\"Creating a Graph!\")\n",
    "     graph = ai.Graph();\n",
    "\n",
    "     print(\"Add Node 1 ...\")\n",
    "     embedding1 = [[1.0, 2.0, 3.0, 4.0], [3.0, 4.0, 5.0, 6.0]]\n",
    "     node1 = graph.addNode(\"Node 1\", ai.NodeType.Input, embedding1)\n",
    "     node1.setOperations([ai.Encoder(heads=2, size=3, bias=True, type=\"leakyrelu\", alpha=0.01)]);\n",
    "     #node1.setOperations([ai.FeedForward(size=2, bias=True, type=\"leakyrelu\", alpha=0.01)]);\n",
    "     #node1.setOperations([ai.Attention(heads=1, size=2, bias=False), ai.Activation(type=\"leakyrelu\", alpha=0.01)]);\n",
    "     #node1.setOperations([ai.Linear(size=2, bias=True), ai.BatchNorm(), ai.Activation(type=\"leakyrelu\", alpha=0.01)]);\n",
    "     #node1.setOperations([ai.Linear(size=2, bias=True)]);\n",
    "\n",
    "     print(\"Add Node 3 ...\")\n",
    "     node3 = graph.addNode(\"Node 3\", ai.NodeType.Output)\n",
    "     #node3.setOperations([ai.Linear(size=3, bias=True), ai.LayerNorm(), ai.Activation(type=\"leakyrelu\", alpha=0.01)]) \n",
    "     node3.setOperations([ai.Linear(size=3, bias=True), ai.Activation(type=\"leakyrelu\", alpha=0.01)]) \n",
    "     #node3.setOperations([ai.Linear(size=3, bias=True)]) \n",
    "     # embedding = [[1.0, 2.0, 3.0], [3.0, 4.0, 6.0]]\n",
    "     # graph.setData(embedding);\n",
    "\n",
    "     # assign to the instance\n",
    "     self.graph = graph;\n",
    "     self.node1 = node1\n",
    "     self.node3 = node3\n",
    "\n",
    "     print(\"Connect nodes ...\");\n",
    "     self.graph.connect(self.node1, self.node3);\n",
    "\n",
    "     self.setGraph(self.graph);\n",
    "\n",
    "model = MyModel();\n"
   ]
  },
  {
   "cell_type": "code",
   "execution_count": null,
   "id": "71c44eb0-3739-4180-b5fb-d1f02bcd932f",
   "metadata": {},
   "outputs": [],
   "source": [
    "target = [[1.0, 2.0, 3.0], [3.0, 4.0, 5.0]];\n",
    "model.setTarget(target);\n",
    "model.train(loss=\"mse\", optimizer=\"adam\", learnrate=0.01, iter=20);"
   ]
  },
  {
   "cell_type": "code",
   "execution_count": null,
   "id": "18c5a121-6da6-4df9-b71c-89a0e6b3dafe",
   "metadata": {},
   "outputs": [],
   "source": [
    "mydot = model.graph.generateDotFormat()\n",
    "mydot "
   ]
  },
  {
   "cell_type": "code",
   "execution_count": null,
   "id": "ab9f90e8-f346-42a8-9b5b-4b79e2ab2e52",
   "metadata": {},
   "outputs": [],
   "source": [
    "from graphviz import Source\n",
    "\n",
    "# Create a Source object from the DOT format graph\n",
    "source = Source(mydot, format='svg')\n",
    "\n",
    "# Display the graph in the notebook\n",
    "display(source)"
   ]
  },
  {
   "cell_type": "code",
   "execution_count": null,
   "id": "14bfcb22-4b55-4d6f-aaaa-dc14652eb908",
   "metadata": {},
   "outputs": [],
   "source": []
  },
  {
   "cell_type": "code",
   "execution_count": null,
   "id": "aa14f091-1ab5-4c76-8243-4ee4a64d2f5f",
   "metadata": {},
   "outputs": [],
   "source": []
  }
 ],
 "metadata": {
  "kernelspec": {
   "display_name": "Python 3 (ipykernel)",
   "language": "python",
   "name": "python3"
  },
  "language_info": {
   "codemirror_mode": {
    "name": "ipython",
    "version": 3
   },
   "file_extension": ".py",
   "mimetype": "text/x-python",
   "name": "python",
   "nbconvert_exporter": "python",
   "pygments_lexer": "ipython3",
   "version": "3.11.4"
  }
 },
 "nbformat": 4,
 "nbformat_minor": 5
}
